{
 "cells": [
  {
   "cell_type": "code",
   "execution_count": null,
   "id": "8f80d8e2",
   "metadata": {},
   "outputs": [],
   "source": [
    "# from PIL import Image\n",
    "# import numpy as np\n",
    "# def collage_maker(image1, image2, name):\n",
    "#     i1 = np.array(image1)\n",
    "#     i2 = np.array(image2)\n",
    "#     collage = np.vstack([i1, i2])\n",
    "#     image = Image.fromarray(collage)\n",
    "#     image.save(name)\n",
    "\n",
    "# # To Run The Above Function\n",
    "# collage_maker(\"image1.jpeg\", \"image2.jpg\", \"new.jpg\")"
   ]
  },
  {
   "cell_type": "markdown",
   "id": "0dd11e4f",
   "metadata": {},
   "source": [
    "#  Dog collage maker"
   ]
  },
  {
   "cell_type": "code",
   "execution_count": 1,
   "id": "c3468385",
   "metadata": {},
   "outputs": [],
   "source": [
    "import cv2\n",
    "import numpy as np\n",
    "\n",
    "# read all the images\n",
    "# we are going to take 4 images only\n",
    "image1=cv2.imread(\"dog1.jpg\")\n",
    "image2=cv2.imread(\"dog2.jpg\")\n",
    "image3=cv2.imread(\"dog3.jpg\")\n",
    "image4=cv2.imread(\"dog4.jpg\")\n",
    "\n",
    "#resiszing\n",
    "# make all the images of same size \n",
    "#so we will use resize function\n",
    "image1=cv2.resize(image1,(200,200))\n",
    "image2=cv2.resize(image2,(200,200))\n",
    "image3=cv2.resize(image3,(200,200))\n",
    "image4=cv2.resize(image4,(200,200))\n",
    "\n",
    "# Now how we will attach image with other image\n",
    "# we will create a horizontal stack of images\n",
    "# then we will add it to the vertical stack\n",
    "# let the horizontal pair be (image1,image2)\n",
    "# and (image3,image4)\n",
    "# we will use numpy stack function\n",
    "Horizontal1=np.hstack([image1,image2])\n",
    "Horizontal2=np.hstack([image3,image4])\n",
    "\n",
    "# Now the horizontal attachment is done\n",
    "# noe vertical attachment\n",
    "Vertical_attachment=np.vstack([Horizontal1,Horizontal2])\n",
    "\n",
    "# Show the final attachment\n",
    "cv2.imshow(\"Final Collage\",Vertical_attachment)\n",
    "cv2.waitKey(0)\n",
    "cv2.destroyAllWindows()"
   ]
  },
  {
   "cell_type": "code",
   "execution_count": null,
   "id": "450b1d77",
   "metadata": {},
   "outputs": [],
   "source": []
  }
 ],
 "metadata": {
  "kernelspec": {
   "display_name": "Python 3 (ipykernel)",
   "language": "python",
   "name": "python3"
  },
  "language_info": {
   "codemirror_mode": {
    "name": "ipython",
    "version": 3
   },
   "file_extension": ".py",
   "mimetype": "text/x-python",
   "name": "python",
   "nbconvert_exporter": "python",
   "pygments_lexer": "ipython3",
   "version": "3.11.5"
  }
 },
 "nbformat": 4,
 "nbformat_minor": 5
}
